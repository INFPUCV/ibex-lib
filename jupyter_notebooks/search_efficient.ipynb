{
 "cells": [
  {
   "cell_type": "markdown",
   "metadata": {},
   "source": [
    "Search Efficient + Spline (Example)\n",
    "===="
   ]
  },
  {
   "cell_type": "markdown",
   "metadata": {},
   "source": [
    "**Conexión por SSH**"
   ]
  },
  {
   "cell_type": "code",
   "execution_count": 1,
   "metadata": {},
   "outputs": [
    {
     "name": "stdin",
     "output_type": "stream",
     "text": [
      "login: iaraya\n",
      "pass: ········\n"
     ]
    }
   ],
   "source": [
    "import ibex\n",
    "ssh = ibex.connect(\"158.251.88.197\")"
   ]
  },
  {
   "cell_type": "code",
   "execution_count": null,
   "metadata": {},
   "outputs": [],
   "source": [
    "#ibex.get_instances()"
   ]
  },
  {
   "cell_type": "markdown",
   "metadata": {},
   "source": [
    "**Interpolación usando spline y search_efficient**"
   ]
  },
  {
   "cell_type": "code",
   "execution_count": 2,
   "metadata": {},
   "outputs": [
    {
     "name": "stdout",
     "output_type": "stream",
     "text": [
      "inital box: [2715.62880276427, 3299.62049584437] [696.986424851661, 1695.96387745806]\n"
     ]
    },
    {
     "data": {
      "image/png": "[encoded data removed]",
      "text/plain": [
       "<Figure size 432x288 with 1 Axes>"
      ]
     },
     "metadata": {
      "needs_background": "light"
     },
     "output_type": "display_data"
    }
   ],
   "source": [
    "from scipy.interpolate import interp1d\n",
    "import matplotlib.pyplot as plt\n",
    "import numpy as np\n",
    "%matplotlib inline\n",
    "\n",
    "instance = \"sr.txt\"\n",
    "npoints = 13\n",
    "prec_se = 1e-3 #precisión para search_efficient\n",
    "prec = 1e-1 #precisión para el solver\n",
    "\n",
    "# We obtain the initial box\n",
    "b1 = ibex.search_efficient(instance, [-1e8,1e8,-1e8,1e8], mode=\"minf1\", prec=prec_se)[1]\n",
    "b2 = ibex.search_efficient(instance, [-1e8,1e8,-1e8,1e8], mode=\"minf2\", prec=prec_se)[1]\n",
    "y1 = [b1[0], b2[0]]\n",
    "y2 = [b2[1], b1[1]]\n",
    "print(\"inital box:\", y1,y2)\n",
    "\n",
    "\n",
    "x = np.linspace(y1[0], y1[1], num=npoints, endpoint=True)\n",
    "y = np.zeros(npoints)\n",
    "i = 0\n",
    "for a in x:\n",
    "    xx, yy = ibex.search_efficient(instance, [a-10*prec_se,a+10*prec_se,y2[0],y2[1]], mode=\"minf2\", prec=prec_se)[1]\n",
    "    x[i] = xx; y[i] = yy\n",
    "    i+=1\n",
    "    \n",
    "\n",
    "f = interp1d(x, y)\n",
    "f2 = interp1d(x, y, kind='cubic')\n",
    "\n",
    "xsol, ysol = ibex.solve(instance, prec=prec)\n",
    "\n",
    "xnew = np.linspace(x[0], x[-1], num=41, endpoint=True)\n",
    "\n",
    "#plot\n",
    "plt.plot(x, y, 'o', xnew, f(xnew), '-', xnew, f2(xnew), '--', xsol, ysol, '-')\n",
    "plt.legend(['data', 'linear', 'cubic', 'sols'], loc='best')\n",
    "plt.show()"
   ]
  },
  {
   "cell_type": "code",
   "execution_count": null,
   "metadata": {},
   "outputs": [],
   "source": []
  },
  {
   "cell_type": "code",
   "execution_count": null,
   "metadata": {},
   "outputs": [],
   "source": []
  }
 ],
 "metadata": {
  "kernelspec": {
   "display_name": "Python 3",
   "language": "python",
   "name": "python3"
  },
  "language_info": {
   "codemirror_mode": {
    "name": "ipython",
    "version": 3
   },
   "file_extension": ".py",
   "mimetype": "text/x-python",
   "name": "python",
   "nbconvert_exporter": "python",
   "pygments_lexer": "ipython3",
   "version": "3.7.3"
  }
 },
 "nbformat": 4,
 "nbformat_minor": 4
}
