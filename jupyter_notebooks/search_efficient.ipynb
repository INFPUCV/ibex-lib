{
 "cells": [
  {
   "cell_type": "markdown",
   "metadata": {},
   "source": [
    "Search Efficient + Spline (Example)\n",
    "===="
   ]
  },
  {
   "cell_type": "markdown",
   "metadata": {},
   "source": [
    "**Conexión por SSH**"
   ]
  },
  {
   "cell_type": "code",
   "execution_count": 16,
   "metadata": {},
   "outputs": [
    {
     "name": "stdin",
     "output_type": "stream",
     "text": [
      "login: iaraya\n",
      "pass: ········\n"
     ]
    }
   ],
   "source": [
    "import ibex\n",
    "ssh = ibex.connect(\"158.251.88.197\")"
   ]
  },
  {
   "cell_type": "code",
   "execution_count": 2,
   "metadata": {},
   "outputs": [
    {
     "name": "stdout",
     "output_type": "stream",
     "text": [
      "binh.txt\n",
      "cf3-3.txt\n",
      "cf3-5.txt\n",
      "ctp1-3.txt\n",
      "ctp1-5.txt\n",
      "ctp2-3.txt\n",
      "ctp2-5.txt\n",
      "ctp6-3.txt\n",
      "ctp6-4.txt\n",
      "ctp7-4.txt\n",
      "ctp7-5.txt\n",
      "kim.txt\n",
      "mop-10.txt\n",
      "mop-13.txt\n",
      "mop-7.txt\n",
      "nbi.txt\n",
      "osy.txt\n",
      "sr.txt\n",
      "tan.txt\n",
      "test.txt\n",
      "wb.txt\n"
     ]
    }
   ],
   "source": [
    "ibex.get_instances()"
   ]
  },
  {
   "cell_type": "markdown",
   "metadata": {},
   "source": [
    "**Interpolación usando spline y search_efficient**"
   ]
  },
  {
   "cell_type": "code",
   "execution_count": 17,
   "metadata": {},
   "outputs": [
    {
     "name": "stdout",
     "output_type": "stream",
     "text": [
      "inital box: [0.0, 40.0] [0.0, 40.0]\n"
     ]
    },
    {
     "data": {
      "image/png": "[encoded data removed]",
      "text/plain": [
       "<Figure size 432x288 with 1 Axes>"
      ]
     },
     "metadata": {
      "needs_background": "light"
     },
     "output_type": "display_data"
    }
   ],
   "source": [
    "from scipy.interpolate import interp1d #spline\n",
    "import matplotlib.pyplot as plt\n",
    "import numpy as np\n",
    "%matplotlib inline\n",
    "\n",
    "instance = \"mop-7.txt\"\n",
    "npoints = 4\n",
    "prec_se = 1e-1 #precisión para search_efficient\n",
    "prec = 2 #precisión para el solver\n",
    "\n",
    "# We obtain the initial box\n",
    "b1 = ibex.search_efficient(instance, [-1e8,1e8,-1e8,1e8], mode=\"minf1\", prec=prec_se)[1]\n",
    "b2 = ibex.search_efficient(instance, [-1e8,1e8,-1e8,1e8], mode=\"minf2\", prec=prec_se)[1]\n",
    "y1 = [b1[0], b2[0]]\n",
    "y2 = [b2[1], b1[1]]\n",
    "print(\"inital box:\", y1,y2)\n",
    "\n",
    "\n",
    "x = np.linspace(y1[0], y1[1], num=npoints, endpoint=True)\n",
    "y = np.zeros(npoints)\n",
    "xpoints = []\n",
    "i = 0\n",
    "for a in x:\n",
    "    xpoint, ypoint, time = ibex.search_efficient(instance, [a-10*prec_se,a+10*prec_se,y2[0],y2[1]], mode=\"minf2\", prec=prec_se)\n",
    "    xpoints.append(xpoint)\n",
    "    \n",
    "    x[i] = ypoint[0]; y[i] = ypoint[1]\n",
    "    i+=1\n",
    "\n",
    "f = interp1d(x, y) #linear\n",
    "f2 = interp1d(x, y, kind='cubic')\n",
    "\n",
    "xsol, ysol = ibex.solve(instance, prec=prec)\n",
    "\n",
    "xnew = np.linspace(x[0], x[-1], num=41, endpoint=True)\n",
    "\n",
    "#plot\n",
    "plt.plot(x, y, 'o', xnew, f(xnew), '-', xnew, f2(xnew), '--', xsol, ysol, '-')\n",
    "plt.legend(['data', 'linear', 'cubic', 'realP'], loc='best')\n",
    "plt.show()"
   ]
  },
  {
   "cell_type": "markdown",
   "metadata": {},
   "source": [
    "Búsqueda de puntos eficientes\n",
    "--"
   ]
  },
  {
   "cell_type": "markdown",
   "metadata": {},
   "source": [
    "**1. Cálculo del punto a interpolar**"
   ]
  },
  {
   "cell_type": "code",
   "execution_count": 34,
   "metadata": {},
   "outputs": [
    {
     "data": {
      "image/png": "[encoded data removed]",
      "text/plain": [
       "<Figure size 432x288 with 1 Axes>"
      ]
     },
     "metadata": {
      "needs_background": "light"
     },
     "output_type": "display_data"
    }
   ],
   "source": [
    "max_area=0;\n",
    "for i in range(len(x)-1):\n",
    "    area = (x[i+1]-x[i])*(y[i]-y[i+1])\n",
    "    if max_area < area:\n",
    "        max_area=area\n",
    "        best_i = i\n",
    "xmid = np.array((x[best_i]+x[best_i+1])/2) #punto a interpolar\n",
    "\n",
    "f2 = interp1d(x, y, kind='cubic')\n",
    "\n",
    "plt.plot(x, y, 'o', xnew, f2(xnew), 'g--', xsol, ysol, 'y-', xmid, f2(xmid), 'rx')\n",
    "plt.legend(['data', 'cubic', 'realP', 'prediction'], loc='best')\n",
    "plt.show()"
   ]
  },
  {
   "cell_type": "markdown",
   "metadata": {},
   "source": [
    "**2. Creación de small_box**"
   ]
  },
  {
   "cell_type": "code",
   "execution_count": 35,
   "metadata": {},
   "outputs": [
    {
     "ename": "IndexError",
     "evalue": "list index out of range",
     "output_type": "error",
     "traceback": [
      "\u001b[1;31m---------------------------------------------------------------------------\u001b[0m",
      "\u001b[1;31mIndexError\u001b[0m                                Traceback (most recent call last)",
      "\u001b[1;32m<ipython-input-35-31a7c52292ad>\u001b[0m in \u001b[0;36m<module>\u001b[1;34m()\u001b[0m\n\u001b[0;32m      7\u001b[0m \u001b[0mbox_x\u001b[0m \u001b[1;33m=\u001b[0m \u001b[1;33m[\u001b[0m\u001b[1;33m]\u001b[0m\u001b[1;33m\u001b[0m\u001b[1;33m\u001b[0m\u001b[0m\n\u001b[0;32m      8\u001b[0m \u001b[1;32mfor\u001b[0m \u001b[0mi\u001b[0m \u001b[1;32min\u001b[0m \u001b[0mrange\u001b[0m\u001b[1;33m(\u001b[0m\u001b[0mlen\u001b[0m\u001b[1;33m(\u001b[0m\u001b[0mxpoints\u001b[0m\u001b[1;33m[\u001b[0m\u001b[1;36m0\u001b[0m\u001b[1;33m]\u001b[0m\u001b[1;33m)\u001b[0m\u001b[1;33m)\u001b[0m\u001b[1;33m:\u001b[0m\u001b[1;33m\u001b[0m\u001b[1;33m\u001b[0m\u001b[0m\n\u001b[1;32m----> 9\u001b[1;33m     \u001b[0mbox_x\u001b[0m\u001b[1;33m.\u001b[0m\u001b[0mappend\u001b[0m\u001b[1;33m(\u001b[0m\u001b[0mnp\u001b[0m\u001b[1;33m.\u001b[0m\u001b[0mminimum\u001b[0m\u001b[1;33m(\u001b[0m\u001b[0mxpoints\u001b[0m\u001b[1;33m[\u001b[0m\u001b[0mbest_i\u001b[0m\u001b[1;33m]\u001b[0m\u001b[1;33m[\u001b[0m\u001b[0mi\u001b[0m\u001b[1;33m]\u001b[0m\u001b[1;33m,\u001b[0m\u001b[0mxpoints\u001b[0m\u001b[1;33m[\u001b[0m\u001b[0mbest_i\u001b[0m\u001b[1;33m+\u001b[0m\u001b[1;36m1\u001b[0m\u001b[1;33m]\u001b[0m\u001b[1;33m[\u001b[0m\u001b[0mi\u001b[0m\u001b[1;33m]\u001b[0m\u001b[1;33m)\u001b[0m\u001b[1;33m)\u001b[0m\u001b[1;33m\u001b[0m\u001b[1;33m\u001b[0m\u001b[0m\n\u001b[0m\u001b[0;32m     10\u001b[0m     \u001b[0mbox_x\u001b[0m\u001b[1;33m.\u001b[0m\u001b[0mappend\u001b[0m\u001b[1;33m(\u001b[0m\u001b[0mnp\u001b[0m\u001b[1;33m.\u001b[0m\u001b[0mmaximum\u001b[0m\u001b[1;33m(\u001b[0m\u001b[0mxpoints\u001b[0m\u001b[1;33m[\u001b[0m\u001b[0mbest_i\u001b[0m\u001b[1;33m]\u001b[0m\u001b[1;33m[\u001b[0m\u001b[0mi\u001b[0m\u001b[1;33m]\u001b[0m\u001b[1;33m,\u001b[0m\u001b[0mxpoints\u001b[0m\u001b[1;33m[\u001b[0m\u001b[0mbest_i\u001b[0m\u001b[1;33m+\u001b[0m\u001b[1;36m1\u001b[0m\u001b[1;33m]\u001b[0m\u001b[1;33m[\u001b[0m\u001b[0mi\u001b[0m\u001b[1;33m]\u001b[0m\u001b[1;33m)\u001b[0m\u001b[1;33m)\u001b[0m\u001b[1;33m\u001b[0m\u001b[1;33m\u001b[0m\u001b[0m\n\u001b[0;32m     11\u001b[0m \u001b[1;31m#####\u001b[0m\u001b[1;33m\u001b[0m\u001b[1;33m\u001b[0m\u001b[1;33m\u001b[0m\u001b[0m\n",
      "\u001b[1;31mIndexError\u001b[0m: list index out of range"
     ]
    }
   ],
   "source": [
    "h = 0.01*(y2[1]-y2[0]) #altura de caja\n",
    "w = 0.01*(y1[1]-y1[0]) #ancho de caja\n",
    "\n",
    "small_box = [xmid-w/2, xmid+w/2, f2(xmid)-h/2, f2(xmid)+h/2]\n",
    "\n",
    "###small box on x (esto es nuevo!)###\n",
    "#Hace falta actualizar xpoints en cada iteración!\n",
    "#box_x = []\n",
    "#for i in range(len(xpoints[0])):\n",
    "#    box_x.append(np.minimum(xpoints[best_i][i],xpoints[best_i+1][i]))\n",
    "#    box_x.append(np.maximum(xpoints[best_i][i],xpoints[best_i+1][i]))\n",
    "#####\n",
    "    \n",
    "#plot\n",
    "import matplotlib.patches as patches\n",
    "\n",
    "# Create figure and axes\n",
    "fig,ax = plt.subplots(1)\n",
    "\n",
    "# Create a Rectangle patch\n",
    "rect = patches.Rectangle((xmid-w/2,f2(xmid)-h/2),w,h,linewidth=2,edgecolor='r',facecolor='r')\n",
    "\n",
    "# Add the patch to the Axes\n",
    "ax.add_patch(rect)\n",
    "plt.plot(x, y, 'o', xsol, ysol, 'y-')\n",
    "plt.legend(['data', 'realP', 'smallbox'], loc='best'); plt.show()"
   ]
  },
  {
   "cell_type": "markdown",
   "metadata": {},
   "source": [
    "**3. Buscando en small_box**"
   ]
  },
  {
   "cell_type": "code",
   "execution_count": 31,
   "metadata": {},
   "outputs": [
    {
     "data": {
      "image/png": "[encoded data removed]",
      "text/plain": [
       "<Figure size 432x288 with 1 Axes>"
      ]
     },
     "metadata": {
      "needs_background": "light"
     },
     "output_type": "display_data"
    },
    {
     "name": "stdout",
     "output_type": "stream",
     "text": [
      "time (search efficient): 11.5263530000001\n"
     ]
    }
   ],
   "source": [
    "aux_x, aux_y, time =  ibex.search_efficient(instance, small_box, mode=\"efficient\", prec=prec_se)#, box_x=box_x)\n",
    "xx, yy = aux_y\n",
    "\n",
    "if xx==np.inf or yy==np.inf:\n",
    "    print(\"no solution found\")\n",
    "else:\n",
    "    x_=np.append(x,xx); x_.sort() #y1\n",
    "    y_=np.append(y,yy); y_[::-1].sort() #y2\n",
    "    \n",
    "    fig,ax = plt.subplots(1)\n",
    "    rect = patches.Rectangle((xmid-w/2,f2(xmid)-h/2),w,h,linewidth=1,edgecolor='y',facecolor='none')\n",
    "    ax.add_patch(rect)\n",
    "    plt.plot(x_, y_, 'o', xsol, ysol, '-')\n",
    "    plt.legend(['data', 'realP'], loc='best')\n",
    "    plt.show()\n",
    "\n",
    "print(\"time (search efficient):\", time)"
   ]
  },
  {
   "cell_type": "markdown",
   "metadata": {},
   "source": [
    "**4. Actualizar vectores. Luego, volver a 1**"
   ]
  },
  {
   "cell_type": "code",
   "execution_count": 33,
   "metadata": {},
   "outputs": [],
   "source": [
    "x=x_; y=y_"
   ]
  },
  {
   "cell_type": "code",
   "execution_count": null,
   "metadata": {},
   "outputs": [],
   "source": []
  }
 ],
 "metadata": {
  "kernelspec": {
   "display_name": "Python 3",
   "language": "python",
   "name": "python3"
  },
  "language_info": {
   "codemirror_mode": {
    "name": "ipython",
    "version": 3
   },
   "file_extension": ".py",
   "mimetype": "text/x-python",
   "name": "python",
   "nbconvert_exporter": "python",
   "pygments_lexer": "ipython3",
   "version": "3.7.3"
  }
 },
 "nbformat": 4,
 "nbformat_minor": 4
}
