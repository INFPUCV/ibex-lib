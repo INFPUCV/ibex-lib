{
 "cells": [
  {
   "cell_type": "markdown",
   "metadata": {},
   "source": [
    "Ibexmop-server (Example)\n",
    "==="
   ]
  },
  {
   "cell_type": "markdown",
   "metadata": {},
   "source": [
    "**Conexión por SSH**"
   ]
  },
  {
   "cell_type": "code",
   "execution_count": 1,
   "metadata": {},
   "outputs": [
    {
     "name": "stdout",
     "output_type": "stream",
     "text": [
      "Cargando ibex...\n"
     ]
    },
    {
     "name": "stdin",
     "output_type": "stream",
     "text": [
      "login: iaraya\n",
      "pass: ········\n"
     ]
    }
   ],
   "source": [
    "import ibex\n",
    "ssh = ibex.connect(\"158.251.88.197\")"
   ]
  },
  {
   "cell_type": "markdown",
   "metadata": {},
   "source": [
    "Función que itera en el solver y retorna puntos que definen *envelopes*"
   ]
  },
  {
   "cell_type": "code",
   "execution_count": 31,
   "metadata": {},
   "outputs": [
    {
     "name": "stdout",
     "output_type": "stream",
     "text": [
      "killall ibexmop-server; /home/iaraya/ibex/ibex-lib/__build__/plugins/optim-mop/ibexmop-server /home/iaraya/ibex/ibex-lib/plugins/optim-mop/benchs/osy.txt --cy-contract-full --port=8000 --server_mode --ub=ub1\n"
     ]
    }
   ],
   "source": [
    "channel = ibex.init_mopserver(\"osy.txt\")"
   ]
  },
  {
   "cell_type": "code",
   "execution_count": 40,
   "metadata": {},
   "outputs": [
    {
     "name": "stdout",
     "output_type": "stream",
     "text": [
      "echo run 50 1e-08 | netcat localhost 8000\n",
      "Run executed\n",
      "\n"
     ]
    },
    {
     "data": {
      "image/png": "[encoded data removed]",
      "text/plain": [
       "<Figure size 432x288 with 1 Axes>"
      ]
     },
     "metadata": {
      "needs_background": "light"
     },
     "output_type": "display_data"
    }
   ],
   "source": [
    "import matplotlib.pyplot as plt\n",
    "import numpy as np\n",
    "\n",
    "\n",
    "ibex.run(50, 1e-8)\n",
    "l1,l2,u1,u2 = ibex.get_envelope()\n",
    "p = [-230, 27.4]\n",
    "\n",
    "%matplotlib inline \n",
    "#plot\n",
    "boxes = ibex.get_boxes()\n",
    "ibex.add_boxes(boxes, plt)\n",
    "plt.plot([p[0]], [p[1]], 'ro', l1, l2, '-', u1,u2,'-'); \n",
    "plt.axis([-250, -200, 20, 40])\n",
    "plt.legend(['lower','upper'], loc='best'); plt.show()"
   ]
  },
  {
   "cell_type": "code",
   "execution_count": 41,
   "metadata": {},
   "outputs": [
    {
     "name": "stdout",
     "output_type": "stream",
     "text": [
      "Puntos de referencia actualizados\n",
      "echo run 10 1e-08 | netcat localhost 8000\n",
      "Run executed\n",
      "\n"
     ]
    },
    {
     "data": {
      "image/png": "[encoded data removed]",
      "text/plain": [
       "<Figure size 432x288 with 1 Axes>"
      ]
     },
     "metadata": {
      "needs_background": "light"
     },
     "output_type": "display_data"
    }
   ],
   "source": [
    "ibex.update_refpoint(p[0], p[1], 1e-8)\n",
    "ibex.run(5, 1e-8)\n",
    "l1,l2,u1,u2 = ibex.get_envelope()\n",
    "\n",
    "#plot\n",
    "boxes = ibex.get_boxes()\n",
    "ibex.add_boxes(boxes, plt)\n",
    "plt.plot([p[0]], [p[1]], 'ro', l1, l2, '-', u1,u2,'-'); \n",
    "plt.axis([-250, -200, 20, 40])\n",
    "plt.legend(['ref','lower','upper'], loc='best'); plt.show()"
   ]
  },
  {
   "cell_type": "code",
   "execution_count": 4,
   "metadata": {},
   "outputs": [
    {
     "name": "stdout",
     "output_type": "stream",
     "text": [
      "[]\n"
     ]
    }
   ],
   "source": [
    "ibex.close_mopserver()"
   ]
  },
  {
   "cell_type": "markdown",
   "metadata": {},
   "source": [
    "RPM\n",
    "---\n",
    "When a **reference point** is indicated, the focus region changes to the region dominated by the reference point. If such solution does not exist, then the objectives of the search change to find a solution minimizing its distance to the reference point.\n",
    "\n",
    "**Implementación**\n",
    "\n",
    "Asumiendo que $r$ es el punto de referencia.\n",
    "Activar estado a `RPM-phase1`\n",
    "\n",
    "**RPM-phase1**\n",
    "1. Primero habría que actualizar el refpoint a $r$ (`update_refpoint`).\n",
    "2. Realizar la búsqueda (`run`) hasta encontrar una solución mejor al punto de referencia. En caso de encontrar, desactivar estado RPM y volver a la normalidad.\n",
    "3. En caso de que `run` retorne `REACHED_PRECISION` pasar a estado `RPM-phase2`\n",
    "\n",
    "**RPM-phase2**\n",
    "1. Usar `SearchEfficient` y pasarle las cajas del focus. El objetivo sería encontrar el punto $y'$ que minimiza:\n",
    "$max(y'_1-r_1, y'_2-r_2) + \\rho (y'_1 + y'_2)$\n",
    "Se puede comenzar usando el punto del upper envelope que minimiza la función.\n",
    "2. Luego de encontrar el punto, las cajas restantes reemplazan a las cajas del focus originales. Se desactiva el estado RPM y todo vuelve a la normalidad.\n",
    "3. En cualquier momento el usuario puede desactivar el estado RPM. Si lo hace, las cajas del focus vuelven a la estrategia original. Para poder detener la búsqueda es necesario implementar función `run` en SearchEfficient al igual que en el solver interactivo. En este caso, la única opción posible sería detener el RPM para continuar con la búsqueda normal.\n",
    "En la interfaz se podría bloquear la interacción hasta que termine RPM o el usuario decida detenerlo.\n",
    "\n",
    "![image](https://i.imgur.com/ygIVkOz.png)\n",
    "\n",
    "\n"
   ]
  },
  {
   "cell_type": "code",
   "execution_count": null,
   "metadata": {},
   "outputs": [],
   "source": []
  }
 ],
 "metadata": {
  "kernelspec": {
   "display_name": "Python 3",
   "language": "python",
   "name": "python3"
  },
  "language_info": {
   "codemirror_mode": {
    "name": "ipython",
    "version": 3
   },
   "file_extension": ".py",
   "mimetype": "text/x-python",
   "name": "python",
   "nbconvert_exporter": "python",
   "pygments_lexer": "ipython3",
   "version": "3.7.3"
  }
 },
 "nbformat": 4,
 "nbformat_minor": 4
}
